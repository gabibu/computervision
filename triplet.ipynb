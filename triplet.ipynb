{
  "nbformat": 4,
  "nbformat_minor": 0,
  "metadata": {
    "colab": {
      "provenance": [],
      "gpuType": "T4"
    },
    "kernelspec": {
      "name": "python3",
      "display_name": "Python 3"
    },
    "language_info": {
      "name": "python"
    },
    "accelerator": "GPU"
  },
  "cells": [
    {
      "cell_type": "code",
      "execution_count": 1,
      "metadata": {
        "colab": {
          "base_uri": "https://localhost:8080/"
        },
        "id": "Q9GFKlFRwLVr",
        "outputId": "9735f4c6-73d9-4d8d-c947-5fb30e71c9cb"
      },
      "outputs": [
        {
          "output_type": "stream",
          "name": "stdout",
          "text": [
            "Mounted at /content/drive\n"
          ]
        }
      ],
      "source": [
        "import os\n",
        "\n",
        "from PIL import Image\n",
        "import numpy as np\n",
        "from torchvision import transforms, datasets\n",
        "import torch\n",
        "import torch.nn as nn\n",
        "import torch.nn.functional as F\n",
        "from torch.utils.data import Dataset, DataLoader\n",
        "import seaborn as sns\n",
        "import pandas as pd\n",
        "\n",
        "from tqdm import tqdm\n",
        "tqdm.pandas()\n",
        "\n",
        "from google.colab import drive\n",
        "drive.mount('/content/drive')"
      ]
    },
    {
      "cell_type": "code",
      "source": [
        "!unzip -q drive/MyDrive/DS_dataset.zip"
      ],
      "metadata": {
        "id": "aPCnmaobwTob"
      },
      "execution_count": 2,
      "outputs": []
    },
    {
      "cell_type": "code",
      "source": [
        "train_dir = 'train'\n",
        "test_dir = 'test'"
      ],
      "metadata": {
        "id": "NV1ZypABwdZe"
      },
      "execution_count": 3,
      "outputs": []
    },
    {
      "cell_type": "code",
      "source": [
        "test_paths = []\n",
        "for label in os.listdir(test_dir):\n",
        "  label_path = os.path.join(test_dir, label)\n",
        "\n",
        "  test_images_path = [(label, os.path.join(label_path, image)) for image in os.listdir(label_path)]\n",
        "  test_paths.extend(test_images_path)\n",
        "\n",
        "test_df = pd.DataFrame(test_paths, columns = ['label', 'path']).sample(frac = 1.)\n",
        "len(test_df)"
      ],
      "metadata": {
        "colab": {
          "base_uri": "https://localhost:8080/"
        },
        "id": "0AcrnPMmrWni",
        "outputId": "0ba35e40-743e-45e3-da1a-3f31abb3b5f5"
      },
      "execution_count": 4,
      "outputs": [
        {
          "output_type": "execute_result",
          "data": {
            "text/plain": [
              "1000"
            ]
          },
          "metadata": {},
          "execution_count": 4
        }
      ]
    },
    {
      "cell_type": "code",
      "source": [
        "train_images_paths = [(os.path.join(train_dir, file),) for file in os.listdir(train_dir)]\n",
        "train_df = pd.DataFrame(train_images_paths, columns = ['path']).sample(frac = 1.)\n",
        "len(train_df)"
      ],
      "metadata": {
        "colab": {
          "base_uri": "https://localhost:8080/"
        },
        "id": "r0pcSzDHy7Yo",
        "outputId": "98369e8e-a281-4c88-96e1-3485cd85e37e"
      },
      "execution_count": 5,
      "outputs": [
        {
          "output_type": "execute_result",
          "data": {
            "text/plain": [
              "2669"
            ]
          },
          "metadata": {},
          "execution_count": 5
        }
      ]
    },
    {
      "cell_type": "code",
      "source": [
        "\n",
        "class DatasetLoader(Dataset):\n",
        "\n",
        "    def __init__(self, df, anchor_transforms, other_transforms):\n",
        "        self._df = df\n",
        "        self._anchor_transforms = anchor_transforms\n",
        "        self._other_transforms = other_transforms\n",
        "\n",
        "    def __len__(self):\n",
        "        return len(self._df)\n",
        "\n",
        "    def __getitem__(self, idx):\n",
        "\n",
        "      row = self._df.iloc[idx]\n",
        "      base_image_path = row['path']\n",
        "\n",
        "      while True:\n",
        "\n",
        "        other_image_path = self._df.sample(1).iloc[0]['path']\n",
        "        if other_image_path != base_image_path:\n",
        "          break\n",
        "\n",
        "      base_image = Image.open(base_image_path).convert('RGB')\n",
        "      other_image = Image.open(other_image_path).convert('RGB')\n",
        "      anchor = self._anchor_transforms(base_image)\n",
        "      negative = self._anchor_transforms(other_image)\n",
        "      positive = self._other_transforms(base_image)\n",
        "\n",
        "      return anchor, positive, negative\n",
        "\n",
        "\n",
        "class TestDatasetLoader(Dataset):\n",
        "\n",
        "    def __init__(self, df, transforms):\n",
        "        self._df = df\n",
        "        self._transforms = transforms\n",
        "\n",
        "\n",
        "    def __len__(self):\n",
        "        return len(self._df)\n",
        "\n",
        "    def __getitem__(self, idx):\n",
        "\n",
        "      row = self._df.iloc[idx]\n",
        "\n",
        "      base_image_path = row['path']\n",
        "      label = row['label']\n",
        "\n",
        "\n",
        "      base_image = Image.open(base_image_path).convert('RGB')\n",
        "      positive = self._transforms(base_image)\n",
        "\n",
        "      return positive, label"
      ],
      "metadata": {
        "id": "sYke81mjzuJ7"
      },
      "execution_count": 7,
      "outputs": []
    },
    {
      "cell_type": "code",
      "source": [
        "def get_mean_and_std(dataloader):\n",
        "    channels_sum, channels_squared_sum, num_batches = 0, 0, 0\n",
        "    for (_,data, _) in dataloader:\n",
        "        channels_sum += torch.mean(data, dim=[0,2,3])\n",
        "        channels_squared_sum += torch.mean(data**2, dim=[0,2,3])\n",
        "        num_batches += 1\n",
        "\n",
        "    mean = channels_sum / num_batches\n",
        "\n",
        "    std = (channels_squared_sum / num_batches - mean ** 2) ** 0.5\n",
        "\n",
        "    return mean, std\n",
        "\n",
        "\n",
        "basic_transformations1 = transforms.Compose([\n",
        "    transforms.Resize(size=(224,224)),\n",
        "        transforms.ToTensor()\n",
        "    ])\n",
        "temp_dataset = DatasetLoader(train_df, basic_transformations1, basic_transformations1)\n",
        "temp_dataloader = DataLoader(dataset=temp_dataset, batch_size=64)\n",
        "\n",
        "means, stds = get_mean_and_std(temp_dataloader)\n",
        "means, stds"
      ],
      "metadata": {
        "colab": {
          "base_uri": "https://localhost:8080/"
        },
        "id": "h28BOS931TwF",
        "outputId": "99769b81-5d0b-48ae-d10b-b63b15b43979"
      },
      "execution_count": 8,
      "outputs": [
        {
          "output_type": "execute_result",
          "data": {
            "text/plain": [
              "(tensor([0.4609, 0.4236, 0.3002]), tensor([0.2937, 0.2635, 0.2859]))"
            ]
          },
          "metadata": {},
          "execution_count": 8
        }
      ]
    },
    {
      "cell_type": "code",
      "source": [
        "image_size = 32\n",
        "crop_size = 32"
      ],
      "metadata": {
        "id": "S8qbhd-1yefZ"
      },
      "execution_count": 9,
      "outputs": []
    },
    {
      "cell_type": "code",
      "source": [
        "basic_transformations = transforms.Compose([\n",
        "    transforms.Resize(size=(image_size,image_size)),\n",
        "        transforms.ToTensor(),\n",
        "    ])\n"
      ],
      "metadata": {
        "id": "9xQ3Gb4uam3X"
      },
      "execution_count": 10,
      "outputs": []
    },
    {
      "cell_type": "code",
      "source": [
        "device = 'cuda' if torch.cuda.is_available() else 'cpu'\n",
        "device"
      ],
      "metadata": {
        "colab": {
          "base_uri": "https://localhost:8080/",
          "height": 35
        },
        "id": "0vaaVkE9TaUG",
        "outputId": "52fffa68-1254-4cd4-94b5-a321abb1f8f5"
      },
      "execution_count": 12,
      "outputs": [
        {
          "output_type": "execute_result",
          "data": {
            "text/plain": [
              "'cuda'"
            ],
            "application/vnd.google.colaboratory.intrinsic+json": {
              "type": "string"
            }
          },
          "metadata": {},
          "execution_count": 12
        }
      ]
    },
    {
      "cell_type": "code",
      "source": [
        "class Network(nn.Module):\n",
        "    def __init__(self):\n",
        "        super(Network, self).__init__()\n",
        "\n",
        "        self.conv1 = nn.Conv2d(in_channels=3, out_channels=6, kernel_size=5, stride=1, padding=1)\n",
        "        self.bn1 = nn.BatchNorm2d(6)\n",
        "        self.conv2 = nn.Conv2d(in_channels=6, out_channels=2, kernel_size=3, stride=1, padding=1)\n",
        "        self.bn2 = nn.BatchNorm2d(2)\n",
        "        self.pool = nn.MaxPool2d(2,2)\n",
        "        self.fc1 = nn.Linear(450, 50)\n",
        "\n",
        "    def forward(self, input):\n",
        "        output = F.relu(self.bn1(self.conv1(input)))\n",
        "        output = F.relu(self.bn2(self.conv2(output)))\n",
        "        output = self.pool(output)\n",
        "        output = output.view(output.shape[0], -1)\n",
        "        output = self.fc1(output)\n",
        "\n",
        "        return output\n",
        "\n",
        "def initialize_weights(m):\n",
        "  if isinstance(m, nn.Conv2d):\n",
        "      nn.init.kaiming_uniform_(m.weight.data,nonlinearity='relu')\n",
        "      if m.bias is not None:\n",
        "          nn.init.constant_(m.bias.data, 0)\n",
        "  elif isinstance(m, nn.BatchNorm2d):\n",
        "      nn.init.constant_(m.weight.data, 1)\n",
        "      nn.init.constant_(m.bias.data, 0)\n",
        "  elif isinstance(m, nn.Linear):\n",
        "      nn.init.kaiming_uniform_(m.weight.data)\n",
        "      nn.init.constant_(m.bias.data, 0)\n"
      ],
      "metadata": {
        "colab": {
          "base_uri": "https://localhost:8080/"
        },
        "id": "cKAABN83Kg5J",
        "outputId": "38b91aa7-235b-4d0f-ebcf-fb8619d51bcb"
      },
      "execution_count": 17,
      "outputs": [
        {
          "output_type": "stream",
          "name": "stderr",
          "text": [
            "                                                 "
          ]
        },
        {
          "output_type": "stream",
          "name": "stdout",
          "text": [
            "('ou', torch.Size([2, 50]), torch.Size([2, 3, 32, 32]))\n"
          ]
        },
        {
          "output_type": "stream",
          "name": "stderr",
          "text": [
            "\r"
          ]
        }
      ]
    },
    {
      "cell_type": "code",
      "source": [
        "\n",
        "learning_rate = 0.001\n",
        "model = Network()\n",
        "model.apply(initialize_weights)\n",
        "model = model.to(device)\n",
        "\n",
        "advance_transformions = transforms.Compose([\n",
        "    transforms.Resize((image_size,image_size)),\n",
        "    transforms.ToTensor(),\n",
        "    transforms.RandomApply([transforms.ColorJitter(hue=.5, saturation=.3)], 0.5),\n",
        "\n",
        "    transforms.RandomHorizontalFlip(0.5),\n",
        "    transforms.RandomApply([transforms.RandomRotation(degrees=(0, 180))], 0.3),\n",
        "    transforms.RandomApply([transforms.GaussianBlur(kernel_size=(5, 9), sigma=(0.1, 5))], 0.4),\n",
        "    transforms.RandomErasing(p=0.2)\n",
        "\n",
        "])\n",
        "\n",
        "basic_transformations = transforms.Compose([\n",
        "    transforms.Resize(size=(image_size,image_size)),\n",
        "        transforms.ToTensor(),\n",
        "    ])\n",
        "\n",
        "dataset = DatasetLoader(train_df, advance_transformions, basic_transformations)\n",
        "dataloader = DataLoader(dataset=dataset, batch_size=64, shuffle = True)\n",
        "\n",
        "loss_func = (\n",
        "    nn.TripletMarginWithDistanceLoss(\n",
        "        distance_function=lambda x, y: 1.0 - F.cosine_similarity(x, y)))\n",
        "\n",
        "optimizer = torch.optim.Adam(model.parameters(),lr = learning_rate)\n",
        "device"
      ],
      "metadata": {
        "colab": {
          "base_uri": "https://localhost:8080/",
          "height": 35
        },
        "id": "cHrd0eVuXOzz",
        "outputId": "772bd8ef-f78b-4509-a5f6-58ad8699cea6"
      },
      "execution_count": 18,
      "outputs": [
        {
          "output_type": "execute_result",
          "data": {
            "text/plain": [
              "'cuda'"
            ],
            "application/vnd.google.colaboratory.intrinsic+json": {
              "type": "string"
            }
          },
          "metadata": {},
          "execution_count": 18
        }
      ]
    },
    {
      "cell_type": "code",
      "source": [
        "\n",
        "anchors, positives, negatives  = next(iter(dataloader))\n"
      ],
      "metadata": {
        "id": "xfQEGOilgxgB"
      },
      "execution_count": 22,
      "outputs": []
    },
    {
      "cell_type": "code",
      "source": [
        "transforms.ToPILImage()(anchors[0])"
      ],
      "metadata": {
        "colab": {
          "base_uri": "https://localhost:8080/",
          "height": 49
        },
        "id": "fmqdqLf9g4tZ",
        "outputId": "175801ee-9e02-44c4-fdf5-583180248591"
      },
      "execution_count": 23,
      "outputs": [
        {
          "output_type": "execute_result",
          "data": {
            "text/plain": [
              "<PIL.Image.Image image mode=RGB size=32x32 at 0x7F4291ADCA60>"
            ],
            "image/png": "[encoded data removed]"
          },
          "metadata": {},
          "execution_count": 23
        }
      ]
    },
    {
      "cell_type": "code",
      "source": [
        "transforms.ToPILImage()(positives[0])"
      ],
      "metadata": {
        "colab": {
          "base_uri": "https://localhost:8080/",
          "height": 49
        },
        "id": "tcQgnUqKht33",
        "outputId": "94b07f50-86f7-4be6-c338-dd4d2094cae1"
      },
      "execution_count": 24,
      "outputs": [
        {
          "output_type": "execute_result",
          "data": {
            "text/plain": [
              "<PIL.Image.Image image mode=RGB size=32x32 at 0x7F42924A4970>"
            ],
            "image/png": "[encoded data removed]"
          },
          "metadata": {},
          "execution_count": 24
        }
      ]
    },
    {
      "cell_type": "code",
      "source": [
        "transforms.ToPILImage()(negatives[0])"
      ],
      "metadata": {
        "colab": {
          "base_uri": "https://localhost:8080/",
          "height": 49
        },
        "id": "TLtyCdQIhwD4",
        "outputId": "a6e83754-ef3d-487d-c5d7-386425bb8846"
      },
      "execution_count": 25,
      "outputs": [
        {
          "output_type": "execute_result",
          "data": {
            "text/plain": [
              "<PIL.Image.Image image mode=RGB size=32x32 at 0x7F4291ADF9D0>"
            ],
            "image/png": "[encoded data removed]"
          },
          "metadata": {},
          "execution_count": 25
        }
      ]
    },
    {
      "cell_type": "code",
      "source": [
        "num_epochs = 100\n",
        "model.train()\n",
        "\n",
        "for  epoch in range(num_epochs):\n",
        "  running_loss = []\n",
        "\n",
        "  for (anchor_img, positive_img, negative_img) in tqdm(dataloader, desc=\"Training\", leave=False):\n",
        "\n",
        "    anchor_img = anchor_img.to(device)\n",
        "    positive_img = positive_img.to(device)\n",
        "    negative_img = negative_img.to(device)\n",
        "\n",
        "\n",
        "\n",
        "    anchor_out = model(anchor_img)\n",
        "    positive_out = model(positive_img)\n",
        "    negative_out = model(negative_img)\n",
        "\n",
        "    loss = loss_func(anchor_out, positive_out, negative_out)\n",
        "\n",
        "    optimizer.zero_grad()\n",
        "    loss.backward()\n",
        "    optimizer.step()\n",
        "    running_loss.append(loss.cpu().detach().numpy())\n",
        "\n",
        "  print((epoch, np.mean(running_loss)))"
      ],
      "metadata": {
        "id": "uw9lKGE6MOh_"
      },
      "execution_count": 27,
      "outputs": []
    },
    {
      "cell_type": "code",
      "source": [
        "test_data_loader = TestDatasetLoader(test_df, basic_transformations)\n",
        "test_dataloader = DataLoader(dataset=test_data_loader, batch_size=128)\n",
        "model.eval()\n",
        "test_res = []\n",
        "\n",
        "with torch.no_grad():\n",
        "\n",
        "  for (images, labels) in tqdm(test_dataloader, desc=\"test\", leave=False):\n",
        "    images = images.to(device)\n",
        "    images_out = model(images).detach().cpu().numpy()\n",
        "\n",
        "    for i in range(images_out.shape[0]):\n",
        "      v = images_out[i]\n",
        "      l = labels[i]\n",
        "      test_res.append((v, l))\n",
        "\n",
        "test_res_df = pd.DataFrame(test_res, columns = ['vector', 'label'])\n",
        "len(test_res_df)"
      ],
      "metadata": {
        "colab": {
          "base_uri": "https://localhost:8080/"
        },
        "id": "1V0NKIhsFnw7",
        "outputId": "3fc2627b-3787-47ed-fde6-77dbc18ac891"
      },
      "execution_count": 28,
      "outputs": [
        {
          "output_type": "stream",
          "name": "stderr",
          "text": []
        },
        {
          "output_type": "execute_result",
          "data": {
            "text/plain": [
              "1000"
            ]
          },
          "metadata": {},
          "execution_count": 28
        }
      ]
    },
    {
      "cell_type": "code",
      "source": [
        "from sklearn.metrics.pairwise import cosine_similarity\n",
        "from sklearn.cluster import KMeans\n",
        "\n",
        "\n",
        "df_cosine=pd.DataFrame(cosine_similarity(test_res_df['vector'].tolist(),dense_output=True))\n",
        "df_cosine['label'] = test_res_df['label']\n",
        "features = df_cosine.drop(columns = ['label'])\n",
        "\n",
        "kmeans = KMeans(\n",
        "    init=\"k-means++\",\n",
        "    n_clusters=5\n",
        ")\n",
        "\n",
        "kmeans.fit(features)\n",
        "\n",
        "clusters = kmeans.predict(features)\n",
        "\n",
        "test_res_df['cluster'] = clusters"
      ],
      "metadata": {
        "id": "_AUP5YLzc6oy"
      },
      "execution_count": null,
      "outputs": []
    },
    {
      "cell_type": "code",
      "source": [
        "test_res_df.groupby(['label', 'cluster']).size().to_frame('size').reset_index().sort_values(by = ['label', 'cluster'])"
      ],
      "metadata": {
        "id": "weTtcXI6UUDn"
      },
      "execution_count": 29,
      "outputs": []
    }
  ]
}